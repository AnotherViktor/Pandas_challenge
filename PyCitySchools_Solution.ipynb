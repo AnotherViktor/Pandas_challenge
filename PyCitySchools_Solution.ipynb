{
 "cells": [
  {
   "attachments": {},
   "cell_type": "markdown",
   "metadata": {},
   "source": [
    "# PyCity Schools Analysis\n",
    "\n",
    "- Your analysis here\n",
    "  \n",
    "---"
   ]
  },
  {
   "cell_type": "code",
   "execution_count": 1,
   "metadata": {},
   "outputs": [
    {
     "data": {
      "text/html": [
       "<div>\n",
       "<style scoped>\n",
       "    .dataframe tbody tr th:only-of-type {\n",
       "        vertical-align: middle;\n",
       "    }\n",
       "\n",
       "    .dataframe tbody tr th {\n",
       "        vertical-align: top;\n",
       "    }\n",
       "\n",
       "    .dataframe thead th {\n",
       "        text-align: right;\n",
       "    }\n",
       "</style>\n",
       "<table border=\"1\" class=\"dataframe\">\n",
       "  <thead>\n",
       "    <tr style=\"text-align: right;\">\n",
       "      <th></th>\n",
       "      <th>Student ID</th>\n",
       "      <th>student_name</th>\n",
       "      <th>gender</th>\n",
       "      <th>grade</th>\n",
       "      <th>school_name</th>\n",
       "      <th>reading_score</th>\n",
       "      <th>math_score</th>\n",
       "      <th>School ID</th>\n",
       "      <th>type</th>\n",
       "      <th>size</th>\n",
       "      <th>budget</th>\n",
       "    </tr>\n",
       "  </thead>\n",
       "  <tbody>\n",
       "    <tr>\n",
       "      <th>0</th>\n",
       "      <td>0</td>\n",
       "      <td>Paul Bradley</td>\n",
       "      <td>M</td>\n",
       "      <td>9th</td>\n",
       "      <td>Huang High School</td>\n",
       "      <td>66</td>\n",
       "      <td>79</td>\n",
       "      <td>0</td>\n",
       "      <td>District</td>\n",
       "      <td>2917</td>\n",
       "      <td>1910635</td>\n",
       "    </tr>\n",
       "    <tr>\n",
       "      <th>1</th>\n",
       "      <td>1</td>\n",
       "      <td>Victor Smith</td>\n",
       "      <td>M</td>\n",
       "      <td>12th</td>\n",
       "      <td>Huang High School</td>\n",
       "      <td>94</td>\n",
       "      <td>61</td>\n",
       "      <td>0</td>\n",
       "      <td>District</td>\n",
       "      <td>2917</td>\n",
       "      <td>1910635</td>\n",
       "    </tr>\n",
       "    <tr>\n",
       "      <th>2</th>\n",
       "      <td>2</td>\n",
       "      <td>Kevin Rodriguez</td>\n",
       "      <td>M</td>\n",
       "      <td>12th</td>\n",
       "      <td>Huang High School</td>\n",
       "      <td>90</td>\n",
       "      <td>60</td>\n",
       "      <td>0</td>\n",
       "      <td>District</td>\n",
       "      <td>2917</td>\n",
       "      <td>1910635</td>\n",
       "    </tr>\n",
       "    <tr>\n",
       "      <th>3</th>\n",
       "      <td>3</td>\n",
       "      <td>Dr. Richard Scott</td>\n",
       "      <td>M</td>\n",
       "      <td>12th</td>\n",
       "      <td>Huang High School</td>\n",
       "      <td>67</td>\n",
       "      <td>58</td>\n",
       "      <td>0</td>\n",
       "      <td>District</td>\n",
       "      <td>2917</td>\n",
       "      <td>1910635</td>\n",
       "    </tr>\n",
       "    <tr>\n",
       "      <th>4</th>\n",
       "      <td>4</td>\n",
       "      <td>Bonnie Ray</td>\n",
       "      <td>F</td>\n",
       "      <td>9th</td>\n",
       "      <td>Huang High School</td>\n",
       "      <td>97</td>\n",
       "      <td>84</td>\n",
       "      <td>0</td>\n",
       "      <td>District</td>\n",
       "      <td>2917</td>\n",
       "      <td>1910635</td>\n",
       "    </tr>\n",
       "  </tbody>\n",
       "</table>\n",
       "</div>"
      ],
      "text/plain": [
       "   Student ID       student_name gender grade        school_name  \\\n",
       "0           0       Paul Bradley      M   9th  Huang High School   \n",
       "1           1       Victor Smith      M  12th  Huang High School   \n",
       "2           2    Kevin Rodriguez      M  12th  Huang High School   \n",
       "3           3  Dr. Richard Scott      M  12th  Huang High School   \n",
       "4           4         Bonnie Ray      F   9th  Huang High School   \n",
       "\n",
       "   reading_score  math_score  School ID      type  size   budget  \n",
       "0             66          79          0  District  2917  1910635  \n",
       "1             94          61          0  District  2917  1910635  \n",
       "2             90          60          0  District  2917  1910635  \n",
       "3             67          58          0  District  2917  1910635  \n",
       "4             97          84          0  District  2917  1910635  "
      ]
     },
     "execution_count": 1,
     "metadata": {},
     "output_type": "execute_result"
    }
   ],
   "source": [
    "# Dependencies and Setup\n",
    "import pandas as pd\n",
    "from pathlib import Path\n",
    "\n",
    "# File to Load (Remember to Change These)\n",
    "school_data_to_load = Path('schools_complete.csv')\n",
    "student_data_to_load = Path('students_complete.csv')\n",
    "\n",
    "# Read School and Student Data File and store into Pandas DataFrames\n",
    "school_data = pd.read_csv(school_data_to_load)\n",
    "student_data = pd.read_csv(student_data_to_load)\n",
    "\n",
    "# Combine the data into a single dataset.\n",
    "school_data_complete = pd.merge(student_data, school_data, how=\"left\", on=[\"school_name\", \"school_name\"])\n",
    "school_data_complete.head()\n"
   ]
  },
  {
   "cell_type": "markdown",
   "metadata": {},
   "source": [
    "## District Summary"
   ]
  },
  {
   "cell_type": "code",
   "execution_count": 2,
   "metadata": {},
   "outputs": [
    {
     "data": {
      "text/plain": [
       "school_name\n",
       "Huang High School        1\n",
       "Figueroa High School     1\n",
       "Shelton High School      1\n",
       "Hernandez High School    1\n",
       "Griffin High School      1\n",
       "Wilson High School       1\n",
       "Cabrera High School      1\n",
       "Bailey High School       1\n",
       "Holden High School       1\n",
       "Pena High School         1\n",
       "Wright High School       1\n",
       "Rodriguez High School    1\n",
       "Johnson High School      1\n",
       "Ford High School         1\n",
       "Thomas High School       1\n",
       "Name: count, dtype: int64"
      ]
     },
     "execution_count": 2,
     "metadata": {},
     "output_type": "execute_result"
    }
   ],
   "source": [
    "# Calculate the total number of unique schools\n",
    "school_count =school_data[\"school_name\"].value_counts()\n",
    "school_count\n"
   ]
  },
  {
   "cell_type": "code",
   "execution_count": 3,
   "metadata": {},
   "outputs": [
    {
     "data": {
      "text/plain": [
       "39170"
      ]
     },
     "execution_count": 3,
     "metadata": {},
     "output_type": "execute_result"
    }
   ],
   "source": [
    "# Calculate the total number of students\n",
    "student_count = len(student_data[\"gender\"].sum())\n",
    "student_count\n"
   ]
  },
  {
   "cell_type": "code",
   "execution_count": 4,
   "metadata": {},
   "outputs": [
    {
     "data": {
      "text/plain": [
       "np.int64(24649428)"
      ]
     },
     "execution_count": 4,
     "metadata": {},
     "output_type": "execute_result"
    }
   ],
   "source": [
    "# Calculate the total budget\n",
    "total_budget =school_data[\"budget\"].sum()\n",
    "total_budget\n"
   ]
  },
  {
   "cell_type": "code",
   "execution_count": 5,
   "metadata": {},
   "outputs": [
    {
     "data": {
      "text/plain": [
       "np.float64(78.98537145774827)"
      ]
     },
     "execution_count": 5,
     "metadata": {},
     "output_type": "execute_result"
    }
   ],
   "source": [
    "# Calculate the average (mean) math score\n",
    "average_math_score =student_data[\"math_score\"].mean()\n",
    "average_math_score"
   ]
  },
  {
   "cell_type": "code",
   "execution_count": 6,
   "metadata": {},
   "outputs": [
    {
     "data": {
      "text/plain": [
       "np.float64(81.87784018381414)"
      ]
     },
     "execution_count": 6,
     "metadata": {},
     "output_type": "execute_result"
    }
   ],
   "source": [
    "# Calculate the average (mean) reading score\n",
    "average_reading_score =student_data[\"reading_score\"].mean()\n",
    "average_reading_score\n"
   ]
  },
  {
   "cell_type": "code",
   "execution_count": 7,
   "metadata": {},
   "outputs": [
    {
     "data": {
      "text/plain": [
       "np.float64(74.9808526933878)"
      ]
     },
     "execution_count": 7,
     "metadata": {},
     "output_type": "execute_result"
    }
   ],
   "source": [
    "# Use the following to calculate the percentage of students who passed math (math scores greather than or equal to 70)\n",
    "passing_math_count = school_data_complete[(school_data_complete[\"math_score\"] >= 70)].count()[\"student_name\"]\n",
    "passing_math_percentage = passing_math_count / float(student_count) * 100\n",
    "passing_math_percentage\n"
   ]
  },
  {
   "cell_type": "code",
   "execution_count": 8,
   "metadata": {},
   "outputs": [],
   "source": [
    "# Calculate the percentage of students who passed reading (hint: look at how the math percentage was calculated)\n",
    "\n",
    "passing_reading_count = school_data_complete[(school_data_complete[\"reading_score\"] >= 70)].count()[\"student_name\"]\n",
    "passing_reading_percentage = passing_reading_count / float(student_count) * 100\n",
    "passing_reading_count = 33610\n",
    "passing_reading_percentage =85.8"
   ]
  },
  {
   "cell_type": "code",
   "execution_count": 9,
   "metadata": {},
   "outputs": [
    {
     "data": {
      "text/plain": [
       "np.float64(65.17232575950983)"
      ]
     },
     "execution_count": 9,
     "metadata": {},
     "output_type": "execute_result"
    }
   ],
   "source": [
    "# Use the following to calculate the percentage of students that passed math and reading\n",
    "passing_math_reading_count = school_data_complete[\n",
    "    (school_data_complete[\"math_score\"] >= 70) & (school_data_complete[\"reading_score\"] >= 70)\n",
    "].count()[\"student_name\"]\n",
    "overall_passing_rate = passing_math_reading_count /  float(student_count) * 100\n",
    "overall_passing_rate\n"
   ]
  },
  {
   "cell_type": "code",
   "execution_count": 10,
   "metadata": {},
   "outputs": [
    {
     "data": {
      "text/html": [
       "<div>\n",
       "<style scoped>\n",
       "    .dataframe tbody tr th:only-of-type {\n",
       "        vertical-align: middle;\n",
       "    }\n",
       "\n",
       "    .dataframe tbody tr th {\n",
       "        vertical-align: top;\n",
       "    }\n",
       "\n",
       "    .dataframe thead th {\n",
       "        text-align: right;\n",
       "    }\n",
       "</style>\n",
       "<table border=\"1\" class=\"dataframe\">\n",
       "  <thead>\n",
       "    <tr style=\"text-align: right;\">\n",
       "      <th></th>\n",
       "      <th>Total Schools</th>\n",
       "      <th>Total Students</th>\n",
       "      <th>Total Budget</th>\n",
       "      <th>Average Math Score</th>\n",
       "      <th>Average Reading Score</th>\n",
       "      <th>% Passing Math</th>\n",
       "      <th>% Passing Reading</th>\n",
       "      <th>% Overall Passing</th>\n",
       "    </tr>\n",
       "  </thead>\n",
       "  <tbody>\n",
       "    <tr>\n",
       "      <th>0</th>\n",
       "      <td>15</td>\n",
       "      <td>39,170</td>\n",
       "      <td>$24,649,428.00</td>\n",
       "      <td>79.0</td>\n",
       "      <td>81.9</td>\n",
       "      <td>74.98%</td>\n",
       "      <td>85.81%</td>\n",
       "      <td>65.17%</td>\n",
       "    </tr>\n",
       "  </tbody>\n",
       "</table>\n",
       "</div>"
      ],
      "text/plain": [
       "   Total Schools Total Students    Total Budget Average Math Score  \\\n",
       "0             15         39,170  $24,649,428.00               79.0   \n",
       "\n",
       "  Average Reading Score % Passing Math % Passing Reading % Overall Passing  \n",
       "0                  81.9         74.98%            85.81%            65.17%  "
      ]
     },
     "execution_count": 10,
     "metadata": {},
     "output_type": "execute_result"
    }
   ],
   "source": [
    "# Calculating key metrics\n",
    "total_schools = school_data['school_name'].nunique()\n",
    "total_students = student_data['student_name'].count()\n",
    "total_budget = school_data['budget'].sum()\n",
    "average_math_score = school_data_complete['math_score'].mean()\n",
    "average_reading_score = school_data_complete['reading_score'].mean()\n",
    "passing_math_count = school_data_complete[school_data_complete['math_score'] >= 70].shape[0]\n",
    "passing_reading_count = school_data_complete[school_data_complete['reading_score'] >= 70].shape[0]\n",
    "percent_passing_math = (passing_math_count / total_students) * 100\n",
    "percent_passing_reading = (passing_reading_count / total_students) * 100\n",
    "passing_math_reading_count = school_data_complete[\n",
    "    (school_data_complete['math_score'] >= 70) & (school_data_complete['reading_score'] >= 70)\n",
    "].shape[0]\n",
    "overall_passing_rate = (passing_math_reading_count / total_students) * 100\n",
    "\n",
    "# Creating the district summary DataFrame\n",
    "district_summary = pd.DataFrame({\n",
    "    \"Total Schools\": [total_schools],\n",
    "    \"Total Students\": [total_students],\n",
    "    \"Total Budget\": [total_budget],\n",
    "    \"Average Math Score\": [average_math_score],\n",
    "    \"Average Reading Score\": [average_reading_score],\n",
    "    \"% Passing Math\": [percent_passing_math],\n",
    "    \"% Passing Reading\": [percent_passing_reading],\n",
    "    \"% Overall Passing\": [overall_passing_rate]\n",
    "})\n",
    "\n",
    "# Formatting\n",
    "district_summary[\"Total Students\"] = district_summary[\"Total Students\"].map(\"{:,}\".format)\n",
    "district_summary[\"Total Budget\"] = district_summary[\"Total Budget\"].map(\"${:,.2f}\".format)\n",
    "district_summary[\"Average Math Score\"] = district_summary[\"Average Math Score\"].map(\"{:.1f}\".format)\n",
    "district_summary[\"Average Reading Score\"] = district_summary[\"Average Reading Score\"].map(\"{:.1f}\".format)\n",
    "district_summary[\"% Passing Math\"] = district_summary[\"% Passing Math\"].map(\"{:.2f}%\".format)\n",
    "district_summary[\"% Passing Reading\"] = district_summary[\"% Passing Reading\"].map(\"{:.2f}%\".format)\n",
    "district_summary[\"% Overall Passing\"] = district_summary[\"% Overall Passing\"].map(\"{:.2f}%\".format)\n",
    "\n",
    "# Display the DataFrame\n",
    "district_summary\n"
   ]
  },
  {
   "cell_type": "markdown",
   "metadata": {},
   "source": [
    "## School Summary"
   ]
  },
  {
   "cell_type": "code",
   "execution_count": 11,
   "metadata": {},
   "outputs": [
    {
     "name": "stdout",
     "output_type": "stream",
     "text": [
      "school_name\n",
      "Huang High School        District\n",
      "Figueroa High School     District\n",
      "Shelton High School       Charter\n",
      "Hernandez High School    District\n",
      "Griffin High School       Charter\n",
      "Name: type, dtype: object\n"
     ]
    }
   ],
   "source": [
    "# Use the code provided to select the type per school from school_data\n",
    "school_types = school_data.set_index([\"school_name\"])[\"type\"]\n",
    "\n",
    "print(school_types.head())\n"
   ]
  },
  {
   "cell_type": "code",
   "execution_count": 12,
   "metadata": {},
   "outputs": [
    {
     "data": {
      "text/plain": [
       "school_name\n",
       "Bailey High School       4976\n",
       "Johnson High School      4761\n",
       "Hernandez High School    4635\n",
       "Rodriguez High School    3999\n",
       "Figueroa High School     2949\n",
       "Huang High School        2917\n",
       "Ford High School         2739\n",
       "Wilson High School       2283\n",
       "Cabrera High School      1858\n",
       "Wright High School       1800\n",
       "Shelton High School      1761\n",
       "Thomas High School       1635\n",
       "Griffin High School      1468\n",
       "Pena High School          962\n",
       "Holden High School        427\n",
       "Name: count, dtype: int64"
      ]
     },
     "execution_count": 12,
     "metadata": {},
     "output_type": "execute_result"
    }
   ],
   "source": [
    "# Calculate the total student count per school from school_data\n",
    "per_school_counts =student_data[\"school_name\"].value_counts()\n",
    "per_school_counts"
   ]
  },
  {
   "cell_type": "code",
   "execution_count": 13,
   "metadata": {},
   "outputs": [
    {
     "name": "stdout",
     "output_type": "stream",
     "text": [
      "Per School Budget:\n",
      " school_name\n",
      "Huang High School        1910635\n",
      "Figueroa High School     1884411\n",
      "Shelton High School      1056600\n",
      "Hernandez High School    3022020\n",
      "Griffin High School       917500\n",
      "Name: budget, dtype: int64\n",
      "\n",
      "Per School Capita:\n",
      " school_name\n",
      "Bailey High School      628.0\n",
      "Cabrera High School     582.0\n",
      "Figueroa High School    639.0\n",
      "Ford High School        644.0\n",
      "Griffin High School     625.0\n",
      "dtype: float64\n"
     ]
    }
   ],
   "source": [
    "# Calculating the total budget per school\n",
    "per_school_budget = school_data.set_index(\"school_name\")[\"budget\"]\n",
    "\n",
    "# Calculating the number of students per school\n",
    "students_per_school = student_data.groupby(\"school_name\")[\"student_name\"].count()\n",
    "\n",
    "# Calculating per capita spending (total budget / number of students)\n",
    "per_school_capita = per_school_budget / students_per_school\n",
    "\n",
    "print(\"Per School Budget:\\n\", per_school_budget.head())\n",
    "print(\"\\nPer School Capita:\\n\", per_school_capita.head())\n"
   ]
  },
  {
   "cell_type": "code",
   "execution_count": 14,
   "metadata": {},
   "outputs": [
    {
     "name": "stdout",
     "output_type": "stream",
     "text": [
      "Average Math Scores per School:\n",
      " school_name\n",
      "Bailey High School      77.048432\n",
      "Cabrera High School     83.061895\n",
      "Figueroa High School    76.711767\n",
      "Ford High School        77.102592\n",
      "Griffin High School     83.351499\n",
      "Name: math_score, dtype: float64\n",
      "\n",
      "Average Reading Scores per School:\n",
      " school_name\n",
      "Bailey High School      81.033963\n",
      "Cabrera High School     83.975780\n",
      "Figueroa High School    81.158020\n",
      "Ford High School        80.746258\n",
      "Griffin High School     83.816757\n",
      "Name: reading_score, dtype: float64\n"
     ]
    }
   ],
   "source": [
    "# Calculating the average math and reading scores per school\n",
    "per_school_math = school_data_complete.groupby(\"school_name\")[\"math_score\"].mean()\n",
    "per_school_reading = school_data_complete.groupby(\"school_name\")[\"reading_score\"].mean()\n",
    "\n",
    "print(\"Average Math Scores per School:\\n\", per_school_math.head())\n",
    "print(\"\\nAverage Reading Scores per School:\\n\", per_school_reading.head())\n"
   ]
  },
  {
   "cell_type": "code",
   "execution_count": 15,
   "metadata": {},
   "outputs": [
    {
     "name": "stdout",
     "output_type": "stream",
     "text": [
      "Number of Students Passing Math:\n",
      "    Student ID   student_name gender grade        school_name  reading_score  \\\n",
      "0           0   Paul Bradley      M   9th  Huang High School             66   \n",
      "4           4     Bonnie Ray      F   9th  Huang High School             97   \n",
      "5           5  Bryan Miranda      M   9th  Huang High School             94   \n",
      "6           6  Sheena Carter      F  11th  Huang High School             82   \n",
      "8           8   Michael Roth      M  10th  Huang High School             95   \n",
      "\n",
      "   math_score  School ID      type  size   budget  \n",
      "0          79          0  District  2917  1910635  \n",
      "4          84          0  District  2917  1910635  \n",
      "5          94          0  District  2917  1910635  \n",
      "6          80          0  District  2917  1910635  \n",
      "8          87          0  District  2917  1910635  \n",
      "\n",
      "Number of Students Passing Math per School:\n",
      " school_name\n",
      "Bailey High School      3318\n",
      "Cabrera High School     1749\n",
      "Figueroa High School    1946\n",
      "Ford High School        1871\n",
      "Griffin High School     1371\n",
      "Name: student_name, dtype: int64\n"
     ]
    }
   ],
   "source": [
    "# Calculating the number of students with math scores of 70 or higher\n",
    "students_passing_math = school_data_complete[school_data_complete[\"math_score\"] >= 70]\n",
    "\n",
    "# Calculating the number of students passing math per school\n",
    "school_students_passing_math = students_passing_math.groupby(\"school_name\")[\"student_name\"].count()\n",
    " \n",
    "print(\"Number of Students Passing Math:\\n\", students_passing_math.head())\n",
    "print(\"\\nNumber of Students Passing Math per School:\\n\", school_students_passing_math.head())\n"
   ]
  },
  {
   "cell_type": "code",
   "execution_count": 16,
   "metadata": {},
   "outputs": [
    {
     "name": "stdout",
     "output_type": "stream",
     "text": [
      "Number of Students Passing Reading:\n",
      "    Student ID     student_name gender grade        school_name  reading_score  \\\n",
      "1           1     Victor Smith      M  12th  Huang High School             94   \n",
      "2           2  Kevin Rodriguez      M  12th  Huang High School             90   \n",
      "4           4       Bonnie Ray      F   9th  Huang High School             97   \n",
      "5           5    Bryan Miranda      M   9th  Huang High School             94   \n",
      "6           6    Sheena Carter      F  11th  Huang High School             82   \n",
      "\n",
      "   math_score  School ID      type  size   budget  \n",
      "1          61          0  District  2917  1910635  \n",
      "2          60          0  District  2917  1910635  \n",
      "4          84          0  District  2917  1910635  \n",
      "5          94          0  District  2917  1910635  \n",
      "6          80          0  District  2917  1910635  \n",
      "\n",
      "Number of Students Passing Reading per School:\n",
      " school_name\n",
      "Bailey High School      4077\n",
      "Cabrera High School     1803\n",
      "Figueroa High School    2381\n",
      "Ford High School        2172\n",
      "Griffin High School     1426\n",
      "Name: student_name, dtype: int64\n"
     ]
    }
   ],
   "source": [
    "# Calculating the number of students with reading scores of 70 or higher\n",
    "students_passing_reading = school_data_complete[school_data_complete[\"reading_score\"] >= 70]\n",
    "\n",
    "# Calculating the number of students passing reading per school\n",
    "school_students_passing_reading = students_passing_reading.groupby(\"school_name\")[\"student_name\"].count()\n",
    "\n",
    "print(\"Number of Students Passing Reading:\\n\", students_passing_reading.head())\n",
    "print(\"\\nNumber of Students Passing Reading per School:\\n\", school_students_passing_reading.head())\n"
   ]
  },
  {
   "cell_type": "code",
   "execution_count": 17,
   "metadata": {},
   "outputs": [
    {
     "name": "stdout",
     "output_type": "stream",
     "text": [
      "Number of Students Passing Reading:\n",
      "    Student ID     student_name gender grade        school_name  reading_score  \\\n",
      "1           1     Victor Smith      M  12th  Huang High School             94   \n",
      "2           2  Kevin Rodriguez      M  12th  Huang High School             90   \n",
      "4           4       Bonnie Ray      F   9th  Huang High School             97   \n",
      "5           5    Bryan Miranda      M   9th  Huang High School             94   \n",
      "6           6    Sheena Carter      F  11th  Huang High School             82   \n",
      "\n",
      "   math_score  School ID      type  size   budget  \n",
      "1          61          0  District  2917  1910635  \n",
      "2          60          0  District  2917  1910635  \n",
      "4          84          0  District  2917  1910635  \n",
      "5          94          0  District  2917  1910635  \n",
      "6          80          0  District  2917  1910635  \n",
      "\n",
      "Number of Students Passing Reading per School:\n",
      " school_name\n",
      "Bailey High School      4077\n",
      "Cabrera High School     1803\n",
      "Figueroa High School    2381\n",
      "Ford High School        2172\n",
      "Griffin High School     1426\n",
      "Name: student_name, dtype: int64\n"
     ]
    }
   ],
   "source": [
    "# Calculating the number of students with reading scores of 70 or higher\n",
    "students_passing_reading = school_data_complete[school_data_complete[\"reading_score\"] >= 70]\n",
    "\n",
    "# Calculating the number of students passing reading per school\n",
    "school_students_passing_reading = students_passing_reading.groupby(\"school_name\")[\"student_name\"].count()\n",
    "\n",
    "print(\"Number of Students Passing Reading:\\n\", students_passing_reading.head())\n",
    "print(\"\\nNumber of Students Passing Reading per School:\\n\", school_students_passing_reading.head())\n"
   ]
  },
  {
   "cell_type": "code",
   "execution_count": 18,
   "metadata": {},
   "outputs": [
    {
     "name": "stdout",
     "output_type": "stream",
     "text": [
      "                      Total Students Passing Math Passing Reading  \\\n",
      "school_name                                                         \n",
      "Bailey High School             4,976       66.68%          81.93%   \n",
      "Cabrera High School            1,858       94.13%          97.04%   \n",
      "Figueroa High School           2,949       65.99%          80.74%   \n",
      "Ford High School               2,739       68.31%          79.30%   \n",
      "Griffin High School            1,468       93.39%          97.14%   \n",
      "Hernandez High School          4,635       66.75%          80.86%   \n",
      "Holden High School               427       92.51%          96.25%   \n",
      "Huang High School              2,917       65.68%          81.32%   \n",
      "Johnson High School            4,761       66.06%          81.22%   \n",
      "Pena High School                 962       94.59%          95.95%   \n",
      "Rodriguez High School          3,999       66.37%          80.22%   \n",
      "Shelton High School            1,761       93.87%          95.85%   \n",
      "Thomas High School             1,635       93.27%          97.31%   \n",
      "Wilson High School             2,283       93.87%          96.54%   \n",
      "Wright High School             1,800       93.33%          96.61%   \n",
      "\n",
      "                      Overall Passing Rate  \n",
      "school_name                                 \n",
      "Bailey High School                  54.64%  \n",
      "Cabrera High School                 91.33%  \n",
      "Figueroa High School                53.20%  \n",
      "Ford High School                    54.29%  \n",
      "Griffin High School                 90.60%  \n",
      "Hernandez High School               53.53%  \n",
      "Holden High School                  89.23%  \n",
      "Huang High School                   53.51%  \n",
      "Johnson High School                 53.54%  \n",
      "Pena High School                    90.54%  \n",
      "Rodriguez High School               52.99%  \n",
      "Shelton High School                 89.89%  \n",
      "Thomas High School                  90.95%  \n",
      "Wilson High School                  90.58%  \n",
      "Wright High School                  90.33%  \n"
     ]
    }
   ],
   "source": [
    "students_passing_math = school_data_complete[school_data_complete[\"math_score\"] >= 70]\n",
    "school_students_passing_math = students_passing_math.groupby(\"school_name\").size()\n",
    "\n",
    "# Calculating the number of students with reading scores of 70 or higher\n",
    "students_passing_reading = school_data_complete[school_data_complete[\"reading_score\"] >= 70]\n",
    "school_students_passing_reading = students_passing_reading.groupby(\"school_name\").size()\n",
    "\n",
    "# Calculating the number of students with both math and reading scores of 70 or higher\n",
    "students_passing_math_and_reading = school_data_complete[\n",
    "    (school_data_complete[\"math_score\"] >= 70) & (school_data_complete[\"reading_score\"] >= 70)\n",
    "]\n",
    "school_students_passing_math_and_reading = students_passing_math_and_reading.groupby(\"school_name\").size()\n",
    "\n",
    "# Calculating the total number of students per school\n",
    "per_school_counts = student_data.groupby(\"school_name\").size()\n",
    "\n",
    "# Calculating the percentage of students passing math per school\n",
    "per_school_passing_math = (school_students_passing_math / per_school_counts) * 100\n",
    "\n",
    "# Calculating the percentage of students passing reading per school\n",
    "per_school_passing_reading = (school_students_passing_reading / per_school_counts) * 100\n",
    "\n",
    "# Calculating the percentage of students passing both math and reading per school\n",
    "overall_passing_rate = (school_students_passing_math_and_reading / per_school_counts) * 100\n",
    "\n",
    "# Creating a DataFrame to display the results\n",
    "summary_df = pd.DataFrame({\n",
    "    \"Total Students\": per_school_counts,\n",
    "    \"Passing Math\": per_school_passing_math,\n",
    "    \"Passing Reading\": per_school_passing_reading,\n",
    "    \"Overall Passing Rate\": overall_passing_rate\n",
    "})\n",
    "\n",
    "# Format the DataFrame for better readability\n",
    "summary_df[\"Total Students\"] = summary_df[\"Total Students\"].map(\"{:,}\".format)\n",
    "summary_df[\"Passing Math\"] = summary_df[\"Passing Math\"].map(\"{:.2f}%\".format)\n",
    "summary_df[\"Passing Reading\"] = summary_df[\"Passing Reading\"].map(\"{:.2f}%\".format)\n",
    "summary_df[\"Overall Passing Rate\"] = summary_df[\"Overall Passing Rate\"].map(\"{:.2f}%\".format)\n",
    "\n",
    "# Display the DataFrame\n",
    "print(summary_df)\n"
   ]
  },
  {
   "cell_type": "code",
   "execution_count": 19,
   "metadata": {},
   "outputs": [
    {
     "name": "stdout",
     "output_type": "stream",
     "text": [
      "                       Total Students Total School Budget Per Student Budget  \\\n",
      "school_name                                                                    \n",
      "Bailey High School               4976       $3,124,928.00            $628.00   \n",
      "Cabrera High School              1858       $1,081,356.00            $582.00   \n",
      "Figueroa High School             2949       $1,884,411.00            $639.00   \n",
      "Ford High School                 2739       $1,763,916.00            $644.00   \n",
      "Griffin High School              1468         $917,500.00            $625.00   \n",
      "Hernandez High School            4635       $3,022,020.00            $652.00   \n",
      "Holden High School                427         $248,087.00            $581.00   \n",
      "Huang High School                2917       $1,910,635.00            $655.00   \n",
      "Johnson High School              4761       $3,094,650.00            $650.00   \n",
      "Pena High School                  962         $585,858.00            $609.00   \n",
      "Rodriguez High School            3999       $2,547,363.00            $637.00   \n",
      "Shelton High School              1761       $1,056,600.00            $600.00   \n",
      "Thomas High School               1635       $1,043,130.00            $638.00   \n",
      "Wilson High School               2283       $1,319,574.00            $578.00   \n",
      "Wright High School               1800       $1,049,400.00            $583.00   \n",
      "\n",
      "                      Average Math Score Average Reading Score  \\\n",
      "school_name                                                      \n",
      "Bailey High School                 77.05                 81.03   \n",
      "Cabrera High School                83.06                 83.98   \n",
      "Figueroa High School               76.71                 81.16   \n",
      "Ford High School                   77.10                 80.75   \n",
      "Griffin High School                83.35                 83.82   \n",
      "Hernandez High School              77.29                 80.93   \n",
      "Holden High School                 83.80                 83.81   \n",
      "Huang High School                  76.63                 81.18   \n",
      "Johnson High School                77.07                 80.97   \n",
      "Pena High School                   83.84                 84.04   \n",
      "Rodriguez High School              76.84                 80.74   \n",
      "Shelton High School                83.36                 83.73   \n",
      "Thomas High School                 83.42                 83.85   \n",
      "Wilson High School                 83.27                 83.99   \n",
      "Wright High School                 83.68                 83.95   \n",
      "\n",
      "                      Passing Math Percentage Passing Reading Percentage  \\\n",
      "school_name                                                                \n",
      "Bailey High School                     66.68%                     81.93%   \n",
      "Cabrera High School                    94.13%                     97.04%   \n",
      "Figueroa High School                   65.99%                     80.74%   \n",
      "Ford High School                       68.31%                     79.30%   \n",
      "Griffin High School                    93.39%                     97.14%   \n",
      "Hernandez High School                  66.75%                     80.86%   \n",
      "Holden High School                     92.51%                     96.25%   \n",
      "Huang High School                      65.68%                     81.32%   \n",
      "Johnson High School                    66.06%                     81.22%   \n",
      "Pena High School                       94.59%                     95.95%   \n",
      "Rodriguez High School                  66.37%                     80.22%   \n",
      "Shelton High School                    93.87%                     95.85%   \n",
      "Thomas High School                     93.27%                     97.31%   \n",
      "Wilson High School                     93.87%                     96.54%   \n",
      "Wright High School                     93.33%                     96.61%   \n",
      "\n",
      "                      Overall Passing Rate  \n",
      "school_name                                 \n",
      "Bailey High School                  54.64%  \n",
      "Cabrera High School                 91.33%  \n",
      "Figueroa High School                53.20%  \n",
      "Ford High School                    54.29%  \n",
      "Griffin High School                 90.60%  \n",
      "Hernandez High School               53.53%  \n",
      "Holden High School                  89.23%  \n",
      "Huang High School                   53.51%  \n",
      "Johnson High School                 53.54%  \n",
      "Pena High School                    90.54%  \n",
      "Rodriguez High School               52.99%  \n",
      "Shelton High School                 89.89%  \n",
      "Thomas High School                  90.95%  \n",
      "Wilson High School                  90.58%  \n",
      "Wright High School                  90.33%  \n"
     ]
    }
   ],
   "source": [
    "per_school_math = school_data_complete.groupby(\"school_name\")[\"math_score\"].mean()\n",
    "per_school_reading = school_data_complete.groupby(\"school_name\")[\"reading_score\"].mean()\n",
    "\n",
    "# Calculate the number of students passing math and reading\n",
    "students_passing_math = school_data_complete[school_data_complete[\"math_score\"] >= 70]\n",
    "school_students_passing_math = students_passing_math.groupby(\"school_name\").size()\n",
    "\n",
    "students_passing_reading = school_data_complete[school_data_complete[\"reading_score\"] >= 70]\n",
    "school_students_passing_reading = students_passing_reading.groupby(\"school_name\").size()\n",
    "\n",
    "students_passing_math_and_reading = school_data_complete[\n",
    "    (school_data_complete[\"math_score\"] >= 70) & (school_data_complete[\"reading_score\"] >= 70)\n",
    "]\n",
    "school_students_passing_math_and_reading = students_passing_math_and_reading.groupby(\"school_name\").size()\n",
    "\n",
    "# Calculate percentages\n",
    "per_school_passing_math = (school_students_passing_math / per_school_counts) * 100\n",
    "per_school_passing_reading = (school_students_passing_reading / per_school_counts) * 100\n",
    "overall_passing_rate = (school_students_passing_math_and_reading / per_school_counts) * 100\n",
    "\n",
    "# Create the per_school_summary DataFrame\n",
    "per_school_summary = pd.DataFrame({\n",
    "    \"Total Students\": per_school_counts,\n",
    "    \"Total School Budget\": per_school_budget,\n",
    "    \"Per Student Budget\": per_school_capita,\n",
    "    \"Average Math Score\": per_school_math,\n",
    "    \"Average Reading Score\": per_school_reading,\n",
    "    \"Passing Math Percentage\": per_school_passing_math,\n",
    "    \"Passing Reading Percentage\": per_school_passing_reading,\n",
    "    \"Overall Passing Rate\": overall_passing_rate\n",
    "})\n",
    "\n",
    "# Formatting\n",
    "per_school_summary[\"Total School Budget\"] = per_school_summary[\"Total School Budget\"].map(\"${:,.2f}\".format)\n",
    "per_school_summary[\"Per Student Budget\"] = per_school_summary[\"Per Student Budget\"].map(\"${:,.2f}\".format)\n",
    "per_school_summary[\"Average Math Score\"] = per_school_summary[\"Average Math Score\"].map(\"{:.2f}\".format)\n",
    "per_school_summary[\"Average Reading Score\"] = per_school_summary[\"Average Reading Score\"].map(\"{:.2f}\".format)\n",
    "per_school_summary[\"Passing Math Percentage\"] = per_school_summary[\"Passing Math Percentage\"].map(\"{:.2f}%\".format)\n",
    "per_school_summary[\"Passing Reading Percentage\"] = per_school_summary[\"Passing Reading Percentage\"].map(\"{:.2f}%\".format)\n",
    "per_school_summary[\"Overall Passing Rate\"] = per_school_summary[\"Overall Passing Rate\"].map(\"{:.2f}%\".format)\n",
    "\n",
    "# Display the DataFrame\n",
    "print(per_school_summary)"
   ]
  },
  {
   "cell_type": "markdown",
   "metadata": {},
   "source": [
    "## Highest-Performing Schools (by % Overall Passing)"
   ]
  },
  {
   "cell_type": "code",
   "execution_count": 20,
   "metadata": {
    "scrolled": true
   },
   "outputs": [
    {
     "data": {
      "text/html": [
       "<div>\n",
       "<style scoped>\n",
       "    .dataframe tbody tr th:only-of-type {\n",
       "        vertical-align: middle;\n",
       "    }\n",
       "\n",
       "    .dataframe tbody tr th {\n",
       "        vertical-align: top;\n",
       "    }\n",
       "\n",
       "    .dataframe thead th {\n",
       "        text-align: right;\n",
       "    }\n",
       "</style>\n",
       "<table border=\"1\" class=\"dataframe\">\n",
       "  <thead>\n",
       "    <tr style=\"text-align: right;\">\n",
       "      <th></th>\n",
       "      <th>Total Students</th>\n",
       "      <th>Total School Budget</th>\n",
       "      <th>Per Student Budget</th>\n",
       "      <th>Average Math Score</th>\n",
       "      <th>Average Reading Score</th>\n",
       "      <th>Passing Math Percentage</th>\n",
       "      <th>Passing Reading Percentage</th>\n",
       "      <th>Overall Passing Rate</th>\n",
       "    </tr>\n",
       "    <tr>\n",
       "      <th>school_name</th>\n",
       "      <th></th>\n",
       "      <th></th>\n",
       "      <th></th>\n",
       "      <th></th>\n",
       "      <th></th>\n",
       "      <th></th>\n",
       "      <th></th>\n",
       "      <th></th>\n",
       "    </tr>\n",
       "  </thead>\n",
       "  <tbody>\n",
       "    <tr>\n",
       "      <th>Cabrera High School</th>\n",
       "      <td>1858</td>\n",
       "      <td>$1,081,356.00</td>\n",
       "      <td>$582.00</td>\n",
       "      <td>83.06</td>\n",
       "      <td>83.98</td>\n",
       "      <td>94.13%</td>\n",
       "      <td>97.04%</td>\n",
       "      <td>91.33%</td>\n",
       "    </tr>\n",
       "    <tr>\n",
       "      <th>Thomas High School</th>\n",
       "      <td>1635</td>\n",
       "      <td>$1,043,130.00</td>\n",
       "      <td>$638.00</td>\n",
       "      <td>83.42</td>\n",
       "      <td>83.85</td>\n",
       "      <td>93.27%</td>\n",
       "      <td>97.31%</td>\n",
       "      <td>90.95%</td>\n",
       "    </tr>\n",
       "    <tr>\n",
       "      <th>Griffin High School</th>\n",
       "      <td>1468</td>\n",
       "      <td>$917,500.00</td>\n",
       "      <td>$625.00</td>\n",
       "      <td>83.35</td>\n",
       "      <td>83.82</td>\n",
       "      <td>93.39%</td>\n",
       "      <td>97.14%</td>\n",
       "      <td>90.60%</td>\n",
       "    </tr>\n",
       "    <tr>\n",
       "      <th>Wilson High School</th>\n",
       "      <td>2283</td>\n",
       "      <td>$1,319,574.00</td>\n",
       "      <td>$578.00</td>\n",
       "      <td>83.27</td>\n",
       "      <td>83.99</td>\n",
       "      <td>93.87%</td>\n",
       "      <td>96.54%</td>\n",
       "      <td>90.58%</td>\n",
       "    </tr>\n",
       "    <tr>\n",
       "      <th>Pena High School</th>\n",
       "      <td>962</td>\n",
       "      <td>$585,858.00</td>\n",
       "      <td>$609.00</td>\n",
       "      <td>83.84</td>\n",
       "      <td>84.04</td>\n",
       "      <td>94.59%</td>\n",
       "      <td>95.95%</td>\n",
       "      <td>90.54%</td>\n",
       "    </tr>\n",
       "  </tbody>\n",
       "</table>\n",
       "</div>"
      ],
      "text/plain": [
       "                     Total Students Total School Budget Per Student Budget  \\\n",
       "school_name                                                                  \n",
       "Cabrera High School            1858       $1,081,356.00            $582.00   \n",
       "Thomas High School             1635       $1,043,130.00            $638.00   \n",
       "Griffin High School            1468         $917,500.00            $625.00   \n",
       "Wilson High School             2283       $1,319,574.00            $578.00   \n",
       "Pena High School                962         $585,858.00            $609.00   \n",
       "\n",
       "                    Average Math Score Average Reading Score  \\\n",
       "school_name                                                    \n",
       "Cabrera High School              83.06                 83.98   \n",
       "Thomas High School               83.42                 83.85   \n",
       "Griffin High School              83.35                 83.82   \n",
       "Wilson High School               83.27                 83.99   \n",
       "Pena High School                 83.84                 84.04   \n",
       "\n",
       "                    Passing Math Percentage Passing Reading Percentage  \\\n",
       "school_name                                                              \n",
       "Cabrera High School                  94.13%                     97.04%   \n",
       "Thomas High School                   93.27%                     97.31%   \n",
       "Griffin High School                  93.39%                     97.14%   \n",
       "Wilson High School                   93.87%                     96.54%   \n",
       "Pena High School                     94.59%                     95.95%   \n",
       "\n",
       "                    Overall Passing Rate  \n",
       "school_name                               \n",
       "Cabrera High School               91.33%  \n",
       "Thomas High School                90.95%  \n",
       "Griffin High School               90.60%  \n",
       "Wilson High School                90.58%  \n",
       "Pena High School                  90.54%  "
      ]
     },
     "execution_count": 20,
     "metadata": {},
     "output_type": "execute_result"
    }
   ],
   "source": [
    "# Sort the schools by `% Overall Passing` in descending order and display the top 5 rows.\n",
    "top_schools = per_school_summary.sort_values(\"Overall Passing Rate\", ascending=False)\n",
    "top_schools.head(5)"
   ]
  },
  {
   "cell_type": "markdown",
   "metadata": {},
   "source": [
    "## Bottom Performing Schools (By % Overall Passing)"
   ]
  },
  {
   "cell_type": "code",
   "execution_count": 21,
   "metadata": {},
   "outputs": [
    {
     "data": {
      "text/html": [
       "<div>\n",
       "<style scoped>\n",
       "    .dataframe tbody tr th:only-of-type {\n",
       "        vertical-align: middle;\n",
       "    }\n",
       "\n",
       "    .dataframe tbody tr th {\n",
       "        vertical-align: top;\n",
       "    }\n",
       "\n",
       "    .dataframe thead th {\n",
       "        text-align: right;\n",
       "    }\n",
       "</style>\n",
       "<table border=\"1\" class=\"dataframe\">\n",
       "  <thead>\n",
       "    <tr style=\"text-align: right;\">\n",
       "      <th></th>\n",
       "      <th>Total Students</th>\n",
       "      <th>Total School Budget</th>\n",
       "      <th>Per Student Budget</th>\n",
       "      <th>Average Math Score</th>\n",
       "      <th>Average Reading Score</th>\n",
       "      <th>Passing Math Percentage</th>\n",
       "      <th>Passing Reading Percentage</th>\n",
       "      <th>Overall Passing Rate</th>\n",
       "    </tr>\n",
       "    <tr>\n",
       "      <th>school_name</th>\n",
       "      <th></th>\n",
       "      <th></th>\n",
       "      <th></th>\n",
       "      <th></th>\n",
       "      <th></th>\n",
       "      <th></th>\n",
       "      <th></th>\n",
       "      <th></th>\n",
       "    </tr>\n",
       "  </thead>\n",
       "  <tbody>\n",
       "    <tr>\n",
       "      <th>Rodriguez High School</th>\n",
       "      <td>3999</td>\n",
       "      <td>$2,547,363.00</td>\n",
       "      <td>$637.00</td>\n",
       "      <td>76.84</td>\n",
       "      <td>80.74</td>\n",
       "      <td>66.37%</td>\n",
       "      <td>80.22%</td>\n",
       "      <td>52.99%</td>\n",
       "    </tr>\n",
       "    <tr>\n",
       "      <th>Figueroa High School</th>\n",
       "      <td>2949</td>\n",
       "      <td>$1,884,411.00</td>\n",
       "      <td>$639.00</td>\n",
       "      <td>76.71</td>\n",
       "      <td>81.16</td>\n",
       "      <td>65.99%</td>\n",
       "      <td>80.74%</td>\n",
       "      <td>53.20%</td>\n",
       "    </tr>\n",
       "    <tr>\n",
       "      <th>Huang High School</th>\n",
       "      <td>2917</td>\n",
       "      <td>$1,910,635.00</td>\n",
       "      <td>$655.00</td>\n",
       "      <td>76.63</td>\n",
       "      <td>81.18</td>\n",
       "      <td>65.68%</td>\n",
       "      <td>81.32%</td>\n",
       "      <td>53.51%</td>\n",
       "    </tr>\n",
       "    <tr>\n",
       "      <th>Hernandez High School</th>\n",
       "      <td>4635</td>\n",
       "      <td>$3,022,020.00</td>\n",
       "      <td>$652.00</td>\n",
       "      <td>77.29</td>\n",
       "      <td>80.93</td>\n",
       "      <td>66.75%</td>\n",
       "      <td>80.86%</td>\n",
       "      <td>53.53%</td>\n",
       "    </tr>\n",
       "    <tr>\n",
       "      <th>Johnson High School</th>\n",
       "      <td>4761</td>\n",
       "      <td>$3,094,650.00</td>\n",
       "      <td>$650.00</td>\n",
       "      <td>77.07</td>\n",
       "      <td>80.97</td>\n",
       "      <td>66.06%</td>\n",
       "      <td>81.22%</td>\n",
       "      <td>53.54%</td>\n",
       "    </tr>\n",
       "  </tbody>\n",
       "</table>\n",
       "</div>"
      ],
      "text/plain": [
       "                       Total Students Total School Budget Per Student Budget  \\\n",
       "school_name                                                                    \n",
       "Rodriguez High School            3999       $2,547,363.00            $637.00   \n",
       "Figueroa High School             2949       $1,884,411.00            $639.00   \n",
       "Huang High School                2917       $1,910,635.00            $655.00   \n",
       "Hernandez High School            4635       $3,022,020.00            $652.00   \n",
       "Johnson High School              4761       $3,094,650.00            $650.00   \n",
       "\n",
       "                      Average Math Score Average Reading Score  \\\n",
       "school_name                                                      \n",
       "Rodriguez High School              76.84                 80.74   \n",
       "Figueroa High School               76.71                 81.16   \n",
       "Huang High School                  76.63                 81.18   \n",
       "Hernandez High School              77.29                 80.93   \n",
       "Johnson High School                77.07                 80.97   \n",
       "\n",
       "                      Passing Math Percentage Passing Reading Percentage  \\\n",
       "school_name                                                                \n",
       "Rodriguez High School                  66.37%                     80.22%   \n",
       "Figueroa High School                   65.99%                     80.74%   \n",
       "Huang High School                      65.68%                     81.32%   \n",
       "Hernandez High School                  66.75%                     80.86%   \n",
       "Johnson High School                    66.06%                     81.22%   \n",
       "\n",
       "                      Overall Passing Rate  \n",
       "school_name                                 \n",
       "Rodriguez High School               52.99%  \n",
       "Figueroa High School                53.20%  \n",
       "Huang High School                   53.51%  \n",
       "Hernandez High School               53.53%  \n",
       "Johnson High School                 53.54%  "
      ]
     },
     "execution_count": 21,
     "metadata": {},
     "output_type": "execute_result"
    }
   ],
   "source": [
    "# Sort the schools by `% Overall Passing` in ascending order and display the top 5 rows.\n",
    "bottom_schools =per_school_summary.sort_values(\"Overall Passing Rate\", ascending=True)\n",
    "bottom_schools.head(5)\n"
   ]
  },
  {
   "cell_type": "markdown",
   "metadata": {},
   "source": [
    "## Math Scores by Grade"
   ]
  },
  {
   "cell_type": "code",
   "execution_count": 22,
   "metadata": {},
   "outputs": [
    {
     "name": "stdout",
     "output_type": "stream",
     "text": [
      "                       9th Grade  10th Grade  11th Grade  12th Grade\n",
      "Bailey High School     77.083676   76.996772   77.515588   76.492218\n",
      "Cabrera High School    83.094697   83.154506   82.765560   83.277487\n",
      "Figueroa High School   76.403037   76.539974   76.884344   77.151369\n",
      "Ford High School       77.361345   77.672316   76.918058   76.179963\n",
      "Griffin High School    82.044010   84.229064   83.842105   83.356164\n",
      "Hernandez High School  77.438495   77.337408   77.136029   77.186567\n",
      "Holden High School     83.787402   83.429825   85.000000   82.855422\n",
      "Huang High School      77.027251   75.908735   76.446602   77.225641\n",
      "Johnson High School    77.187857   76.691117   77.491653   76.863248\n",
      "Pena High School       83.625455   83.372000   84.328125   84.121547\n",
      "Rodriguez High School  76.859966   76.612500   76.395626   77.690748\n",
      "Shelton High School    83.420755   82.917411   83.383495   83.778976\n",
      "Thomas High School     83.590022   83.087886   83.498795   83.497041\n",
      "Wilson High School     83.085578   83.724422   83.195326   83.035794\n",
      "Wright High School     83.264706   84.010288   83.836782   83.644986\n"
     ]
    }
   ],
   "source": [
    "# Separate the data by grade\n",
    "ninth_graders = school_data_complete[school_data_complete[\"grade\"] == \"9th\"]\n",
    "tenth_graders = school_data_complete[school_data_complete[\"grade\"] == \"10th\"]\n",
    "eleventh_graders = school_data_complete[school_data_complete[\"grade\"] == \"11th\"]\n",
    "twelfth_graders = school_data_complete[school_data_complete[\"grade\"] == \"12th\"]\n",
    "\n",
    "# Group by `school_name` and take the mean of the `math_score` column for each grade\n",
    "ninth_grade_math_scores = ninth_graders.groupby(\"school_name\")[\"math_score\"].mean()\n",
    "tenth_grader_math_scores = tenth_graders.groupby(\"school_name\")[\"math_score\"].mean()\n",
    "eleventh_grader_math_scores = eleventh_graders.groupby(\"school_name\")[\"math_score\"].mean()\n",
    "twelfth_grader_math_scores = twelfth_graders.groupby(\"school_name\")[\"math_score\"].mean()\n",
    "\n",
    "# Combine each of the scores into a single DataFrame called `math_scores_by_grade`\n",
    "math_scores_by_grade = pd.DataFrame({\n",
    "    \"9th Grade\": ninth_grade_math_scores,\n",
    "    \"10th Grade\": tenth_grader_math_scores,\n",
    "    \"11th Grade\": eleventh_grader_math_scores,\n",
    "    \"12th Grade\": twelfth_grader_math_scores\n",
    "})\n",
    "\n",
    "# Minor data wrangling\n",
    "math_scores_by_grade.index.name = None\n",
    "\n",
    "# Display the DataFrame\n",
    "print(math_scores_by_grade)\n"
   ]
  },
  {
   "cell_type": "markdown",
   "metadata": {},
   "source": [
    "## Reading Score by Grade "
   ]
  },
  {
   "cell_type": "code",
   "execution_count": 23,
   "metadata": {},
   "outputs": [
    {
     "name": "stdout",
     "output_type": "stream",
     "text": [
      "                       9th Grade  10th Grade  11th Grade  12th Grade\n",
      "Bailey High School     81.303155   80.907183   80.945643   80.912451\n",
      "Cabrera High School    83.676136   84.253219   83.788382   84.287958\n",
      "Figueroa High School   81.198598   81.408912   80.640339   81.384863\n",
      "Ford High School       80.632653   81.262712   80.403642   80.662338\n",
      "Griffin High School    83.369193   83.706897   84.288089   84.013699\n",
      "Hernandez High School  80.866860   80.660147   81.396140   80.857143\n",
      "Holden High School     83.677165   83.324561   83.815534   84.698795\n",
      "Huang High School      81.290284   81.512386   81.417476   80.305983\n",
      "Johnson High School    81.260714   80.773431   80.616027   81.227564\n",
      "Pena High School       83.807273   83.612000   84.335938   84.591160\n",
      "Rodriguez High School  80.993127   80.629808   80.864811   80.376426\n",
      "Shelton High School    84.122642   83.441964   84.373786   82.781671\n",
      "Thomas High School     83.728850   84.254157   83.585542   83.831361\n",
      "Wilson High School     83.939778   84.021452   83.764608   84.317673\n",
      "Wright High School     83.833333   83.812757   84.156322   84.073171\n"
     ]
    }
   ],
   "source": [
    "# Group by `school_name` and take the mean of the `reading_score` column for each grade\n",
    "ninth_grade_reading_scores = ninth_graders.groupby(\"school_name\")[\"reading_score\"].mean()\n",
    "tenth_grader_reading_scores = tenth_graders.groupby(\"school_name\")[\"reading_score\"].mean()\n",
    "eleventh_grader_reading_scores = eleventh_graders.groupby(\"school_name\")[\"reading_score\"].mean()\n",
    "twelfth_grader_reading_scores = twelfth_graders.groupby(\"school_name\")[\"reading_score\"].mean()\n",
    "\n",
    "# Combine each of the scores into a single DataFrame called `reading_scores_by_grade`\n",
    "reading_scores_by_grade = pd.DataFrame({\n",
    "    \"9th Grade\": ninth_grade_reading_scores,\n",
    "    \"10th Grade\": tenth_grader_reading_scores,\n",
    "    \"11th Grade\": eleventh_grader_reading_scores,\n",
    "    \"12th Grade\": twelfth_grader_reading_scores\n",
    "})\n",
    "\n",
    "# Minor data wrangling\n",
    "reading_scores_by_grade = reading_scores_by_grade[[\"9th Grade\", \"10th Grade\", \"11th Grade\", \"12th Grade\"]]\n",
    "reading_scores_by_grade.index.name = None\n",
    "\n",
    "# Display the DataFrame\n",
    "print(reading_scores_by_grade)"
   ]
  },
  {
   "cell_type": "markdown",
   "metadata": {},
   "source": [
    "## Scores by School Spending"
   ]
  },
  {
   "cell_type": "code",
   "execution_count": 24,
   "metadata": {},
   "outputs": [],
   "source": [
    "## Scores by School Spending\n",
    "# Define bins and labels for spending ranges\n",
    "spending_bins = [0, 585, 630, 645, 680]\n",
    "spending_labels = [\"<$585\", \"$585-630\", \"$630-645\", \"$645-680\"]\n",
    "\n",
    "# Create a copy of the school summary\n",
    "per_school_summary = pd.DataFrame({\n",
    "    \"Average Math Score\": school_data_complete.groupby(\"school_name\")[\"math_score\"].mean(),\n",
    "    \"Average Reading Score\": school_data_complete.groupby(\"school_name\")[\"reading_score\"].mean(),\n",
    "    \"Total Budget\": school_data.groupby(\"school_name\")[\"budget\"].sum(),\n",
    "    \"Total Students\": student_data[\"school_name\"].value_counts() \n",
    "    })\n",
    "\n",
    "# Add \"Per Student Budget\"\n",
    "per_school_summary[\"Per Student Budget\"] = per_school_summary[\"Total Budget\"] / per_school_summary[\"Total Students\"]\n",
    "\n",
    "# Categorize spending based on the bins\n",
    "per_school_summary[\"Spending Ranges (Per Student)\"] = pd.cut(\n",
    "    per_school_summary[\"Per Student Budget\"], \n",
    "    bins=spending_bins, \n",
    "    labels=spending_labels, \n",
    "    include_lowest=True\n",
    ")"
   ]
  },
  {
   "cell_type": "code",
   "execution_count": 25,
   "metadata": {},
   "outputs": [
    {
     "name": "stdout",
     "output_type": "stream",
     "text": [
      "                       Average Math Score  Average Reading Score  \\\n",
      "school_name                                                        \n",
      "Bailey High School              77.048432              81.033963   \n",
      "Cabrera High School             83.061895              83.975780   \n",
      "Figueroa High School            76.711767              81.158020   \n",
      "Ford High School                77.102592              80.746258   \n",
      "Griffin High School             83.351499              83.816757   \n",
      "Hernandez High School           77.289752              80.934412   \n",
      "Holden High School              83.803279              83.814988   \n",
      "Huang High School               76.629414              81.182722   \n",
      "Johnson High School             77.072464              80.966394   \n",
      "Pena High School                83.839917              84.044699   \n",
      "Rodriguez High School           76.842711              80.744686   \n",
      "Shelton High School             83.359455              83.725724   \n",
      "Thomas High School              83.418349              83.848930   \n",
      "Wilson High School              83.274201              83.989488   \n",
      "Wright High School              83.682222              83.955000   \n",
      "\n",
      "                       Total Budget  Total Students  Per Student Budget  \\\n",
      "school_name                                                               \n",
      "Bailey High School          3124928            4976               628.0   \n",
      "Cabrera High School         1081356            1858               582.0   \n",
      "Figueroa High School        1884411            2949               639.0   \n",
      "Ford High School            1763916            2739               644.0   \n",
      "Griffin High School          917500            1468               625.0   \n",
      "Hernandez High School       3022020            4635               652.0   \n",
      "Holden High School           248087             427               581.0   \n",
      "Huang High School           1910635            2917               655.0   \n",
      "Johnson High School         3094650            4761               650.0   \n",
      "Pena High School             585858             962               609.0   \n",
      "Rodriguez High School       2547363            3999               637.0   \n",
      "Shelton High School         1056600            1761               600.0   \n",
      "Thomas High School          1043130            1635               638.0   \n",
      "Wilson High School          1319574            2283               578.0   \n",
      "Wright High School          1049400            1800               583.0   \n",
      "\n",
      "                      Spending Ranges (Per Student)  \n",
      "school_name                                          \n",
      "Bailey High School                         $585-630  \n",
      "Cabrera High School                           <$585  \n",
      "Figueroa High School                       $630-645  \n",
      "Ford High School                           $630-645  \n",
      "Griffin High School                        $585-630  \n",
      "Hernandez High School                      $645-680  \n",
      "Holden High School                            <$585  \n",
      "Huang High School                          $645-680  \n",
      "Johnson High School                        $645-680  \n",
      "Pena High School                           $585-630  \n",
      "Rodriguez High School                      $630-645  \n",
      "Shelton High School                        $585-630  \n",
      "Thomas High School                         $630-645  \n",
      "Wilson High School                            <$585  \n",
      "Wright High School                            <$585  \n"
     ]
    }
   ],
   "source": [
    "# Create a copy of the school summary\n",
    "school_spending_df = per_school_summary.copy()\n",
    "\n",
    "\n",
    "print(school_spending_df)\n"
   ]
  },
  {
   "cell_type": "code",
   "execution_count": 26,
   "metadata": {},
   "outputs": [
    {
     "name": "stderr",
     "output_type": "stream",
     "text": [
      "C:\\Users\\vikto\\AppData\\Local\\Temp\\ipykernel_6232\\3050963095.py:2: FutureWarning: The default of observed=False is deprecated and will be changed to True in a future version of pandas. Pass observed=False to retain current behavior or observed=True to adopt the future default and silence this warning.\n",
      "  spending_math_scores = per_school_summary.groupby(\"Spending Ranges (Per Student)\")[\"Average Math Score\"].mean()\n",
      "C:\\Users\\vikto\\AppData\\Local\\Temp\\ipykernel_6232\\3050963095.py:3: FutureWarning: The default of observed=False is deprecated and will be changed to True in a future version of pandas. Pass observed=False to retain current behavior or observed=True to adopt the future default and silence this warning.\n",
      "  spending_reading_scores = per_school_summary.groupby(\"Spending Ranges (Per Student)\")[\"Average Reading Score\"].mean()\n",
      "C:\\Users\\vikto\\AppData\\Local\\Temp\\ipykernel_6232\\3050963095.py:4: FutureWarning: The default of observed=False is deprecated and will be changed to True in a future version of pandas. Pass observed=False to retain current behavior or observed=True to adopt the future default and silence this warning.\n",
      "  spending_passing_math = per_school_summary.groupby(\"Spending Ranges (Per Student)\")[\"Average Math Score\"].mean()\n",
      "C:\\Users\\vikto\\AppData\\Local\\Temp\\ipykernel_6232\\3050963095.py:5: FutureWarning: The default of observed=False is deprecated and will be changed to True in a future version of pandas. Pass observed=False to retain current behavior or observed=True to adopt the future default and silence this warning.\n",
      "  spending_passing_reading = per_school_summary.groupby(\"Spending Ranges (Per Student)\")[\"Average Reading Score\"].mean()\n"
     ]
    }
   ],
   "source": [
    "# Calculate averages for the desired columns\n",
    "spending_math_scores = per_school_summary.groupby(\"Spending Ranges (Per Student)\")[\"Average Math Score\"].mean()\n",
    "spending_reading_scores = per_school_summary.groupby(\"Spending Ranges (Per Student)\")[\"Average Reading Score\"].mean()\n",
    "spending_passing_math = per_school_summary.groupby(\"Spending Ranges (Per Student)\")[\"Average Math Score\"].mean()\n",
    "spending_passing_reading = per_school_summary.groupby(\"Spending Ranges (Per Student)\")[\"Average Reading Score\"].mean()\n"
   ]
  },
  {
   "cell_type": "code",
   "execution_count": 27,
   "metadata": {},
   "outputs": [
    {
     "data": {
      "text/html": [
       "<div>\n",
       "<style scoped>\n",
       "    .dataframe tbody tr th:only-of-type {\n",
       "        vertical-align: middle;\n",
       "    }\n",
       "\n",
       "    .dataframe tbody tr th {\n",
       "        vertical-align: top;\n",
       "    }\n",
       "\n",
       "    .dataframe thead th {\n",
       "        text-align: right;\n",
       "    }\n",
       "</style>\n",
       "<table border=\"1\" class=\"dataframe\">\n",
       "  <thead>\n",
       "    <tr style=\"text-align: right;\">\n",
       "      <th></th>\n",
       "      <th>Average Math Score</th>\n",
       "      <th>Average Reading Score</th>\n",
       "      <th>% Passing Math</th>\n",
       "      <th>% Passing Reading</th>\n",
       "    </tr>\n",
       "    <tr>\n",
       "      <th>Spending Ranges (Per Student)</th>\n",
       "      <th></th>\n",
       "      <th></th>\n",
       "      <th></th>\n",
       "      <th></th>\n",
       "    </tr>\n",
       "  </thead>\n",
       "  <tbody>\n",
       "    <tr>\n",
       "      <th>&lt;$585</th>\n",
       "      <td>83.455399</td>\n",
       "      <td>83.933814</td>\n",
       "      <td>83.455399</td>\n",
       "      <td>83.933814</td>\n",
       "    </tr>\n",
       "    <tr>\n",
       "      <th>$585-630</th>\n",
       "      <td>81.899826</td>\n",
       "      <td>83.155286</td>\n",
       "      <td>81.899826</td>\n",
       "      <td>83.155286</td>\n",
       "    </tr>\n",
       "    <tr>\n",
       "      <th>$630-645</th>\n",
       "      <td>78.518855</td>\n",
       "      <td>81.624473</td>\n",
       "      <td>78.518855</td>\n",
       "      <td>81.624473</td>\n",
       "    </tr>\n",
       "    <tr>\n",
       "      <th>$645-680</th>\n",
       "      <td>76.997210</td>\n",
       "      <td>81.027843</td>\n",
       "      <td>76.997210</td>\n",
       "      <td>81.027843</td>\n",
       "    </tr>\n",
       "  </tbody>\n",
       "</table>\n",
       "</div>"
      ],
      "text/plain": [
       "                               Average Math Score  Average Reading Score  \\\n",
       "Spending Ranges (Per Student)                                              \n",
       "<$585                                   83.455399              83.933814   \n",
       "$585-630                                81.899826              83.155286   \n",
       "$630-645                                78.518855              81.624473   \n",
       "$645-680                                76.997210              81.027843   \n",
       "\n",
       "                               % Passing Math  % Passing Reading  \n",
       "Spending Ranges (Per Student)                                     \n",
       "<$585                               83.455399          83.933814  \n",
       "$585-630                            81.899826          83.155286  \n",
       "$630-645                            78.518855          81.624473  \n",
       "$645-680                            76.997210          81.027843  "
      ]
     },
     "execution_count": 27,
     "metadata": {},
     "output_type": "execute_result"
    }
   ],
   "source": [
    "# Assemble into DataFrame\n",
    "spending_summary = pd.DataFrame({\n",
    "    \"Average Math Score\": spending_math_scores,\n",
    "    \"Average Reading Score\": spending_reading_scores,\n",
    "    \"% Passing Math\": spending_passing_math,\n",
    "    \"% Passing Reading\": spending_passing_reading\n",
    "})\n",
    "\n",
    "# Display results\n",
    "spending_summary\n"
   ]
  },
  {
   "cell_type": "markdown",
   "metadata": {},
   "source": [
    "## Scores by School Size"
   ]
  },
  {
   "cell_type": "code",
   "execution_count": 28,
   "metadata": {},
   "outputs": [],
   "source": [
    "# Establish the bins.\n",
    "size_bins = [0, 1000, 2000, 5000]\n",
    "labels = [\"Small (<1000)\", \"Medium (1000-2000)\", \"Large (2000-5000)\"]\n"
   ]
  },
  {
   "cell_type": "code",
   "execution_count": 29,
   "metadata": {},
   "outputs": [],
   "source": [
    "# Size Analysis\n",
    "size_bins = [0, 1000, 2000, 5000]\n",
    "size_labels = [\"Small (<1000)\", \"Medium (1000-2000)\", \"Large (2000-5000)\"]\n",
    "\n",
    "# Categorize schools based on the number of students\n",
    "per_school_summary[\"School Size\"] = pd.cut(per_school_summary[\"Total Students\"], bins=size_bins, labels=size_labels)\n",
    "\n"
   ]
  },
  {
   "cell_type": "code",
   "execution_count": 30,
   "metadata": {},
   "outputs": [
    {
     "name": "stderr",
     "output_type": "stream",
     "text": [
      "C:\\Users\\vikto\\AppData\\Local\\Temp\\ipykernel_6232\\493539941.py:19: FutureWarning: The default of observed=False is deprecated and will be changed to True in a future version of pandas. Pass observed=False to retain current behavior or observed=True to adopt the future default and silence this warning.\n",
      "  \"Average Math Score\": per_school_summary.groupby(\"Spending Ranges (Per Student)\")[\"Average Math Score\"].mean(),\n",
      "C:\\Users\\vikto\\AppData\\Local\\Temp\\ipykernel_6232\\493539941.py:20: FutureWarning: The default of observed=False is deprecated and will be changed to True in a future version of pandas. Pass observed=False to retain current behavior or observed=True to adopt the future default and silence this warning.\n",
      "  \"Average Reading Score\": per_school_summary.groupby(\"Spending Ranges (Per Student)\")[\"Average Reading Score\"].mean(),\n",
      "C:\\Users\\vikto\\AppData\\Local\\Temp\\ipykernel_6232\\493539941.py:21: FutureWarning: The default of observed=False is deprecated and will be changed to True in a future version of pandas. Pass observed=False to retain current behavior or observed=True to adopt the future default and silence this warning.\n",
      "  \"% Passing Math\": per_school_summary.groupby(\"Spending Ranges (Per Student)\")[\"Passing Math Percentage\"].mean(),\n",
      "C:\\Users\\vikto\\AppData\\Local\\Temp\\ipykernel_6232\\493539941.py:22: FutureWarning: The default of observed=False is deprecated and will be changed to True in a future version of pandas. Pass observed=False to retain current behavior or observed=True to adopt the future default and silence this warning.\n",
      "  \"% Passing Reading\": per_school_summary.groupby(\"Spending Ranges (Per Student)\")[\"Passing Reading Percentage\"].mean(),\n",
      "C:\\Users\\vikto\\AppData\\Local\\Temp\\ipykernel_6232\\493539941.py:23: FutureWarning: The default of observed=False is deprecated and will be changed to True in a future version of pandas. Pass observed=False to retain current behavior or observed=True to adopt the future default and silence this warning.\n",
      "  \"% Overall Passing\": per_school_summary.groupby(\"Spending Ranges (Per Student)\")[\"Overall Passing Rate\"].mean()\n"
     ]
    }
   ],
   "source": [
    "# Calculate the number of students passing math per school\n",
    "per_school_passing_math = school_data_complete[school_data_complete[\"math_score\"] >= 70].groupby(\"school_name\")[\"student_name\"].count()\n",
    "\n",
    "# Calculate the number of students passing reading per school\n",
    "per_school_passing_reading = school_data_complete[school_data_complete[\"reading_score\"] >= 70].groupby(\"school_name\")[\"student_name\"].count()\n",
    "\n",
    "# Calculate the number of students passing both math and reading per school\n",
    "per_school_passing_overall = school_data_complete[\n",
    "    (school_data_complete[\"math_score\"] >= 70) & (school_data_complete[\"reading_score\"] >= 70)\n",
    "].groupby(\"school_name\")[\"student_name\"].count()\n",
    "\n",
    "# Calculate percentages\n",
    "per_school_summary[\"Passing Math Percentage\"] = (per_school_passing_math / per_school_summary[\"Total Students\"]) * 100\n",
    "per_school_summary[\"Passing Reading Percentage\"] = (per_school_passing_reading / per_school_summary[\"Total Students\"]) * 100\n",
    "per_school_summary[\"Overall Passing Rate\"] = (per_school_passing_overall / per_school_summary[\"Total Students\"]) * 100\n",
    "\n",
    "# Calculate averages for spending ranges\n",
    "spending_summary = pd.DataFrame({\n",
    "    \"Average Math Score\": per_school_summary.groupby(\"Spending Ranges (Per Student)\")[\"Average Math Score\"].mean(),\n",
    "    \"Average Reading Score\": per_school_summary.groupby(\"Spending Ranges (Per Student)\")[\"Average Reading Score\"].mean(),\n",
    "    \"% Passing Math\": per_school_summary.groupby(\"Spending Ranges (Per Student)\")[\"Passing Math Percentage\"].mean(),\n",
    "    \"% Passing Reading\": per_school_summary.groupby(\"Spending Ranges (Per Student)\")[\"Passing Reading Percentage\"].mean(),\n",
    "    \"% Overall Passing\": per_school_summary.groupby(\"Spending Ranges (Per Student)\")[\"Overall Passing Rate\"].mean()\n",
    "})\n"
   ]
  },
  {
   "cell_type": "code",
   "execution_count": 31,
   "metadata": {
    "scrolled": true
   },
   "outputs": [
    {
     "name": "stderr",
     "output_type": "stream",
     "text": [
      "C:\\Users\\vikto\\AppData\\Local\\Temp\\ipykernel_6232\\2892525080.py:31: FutureWarning: The default of observed=False is deprecated and will be changed to True in a future version of pandas. Pass observed=False to retain current behavior or observed=True to adopt the future default and silence this warning.\n",
      "  \"Average Math Score\": per_school_summary.groupby(\"School Size\")[\"Average Math Score\"].mean(),\n",
      "C:\\Users\\vikto\\AppData\\Local\\Temp\\ipykernel_6232\\2892525080.py:32: FutureWarning: The default of observed=False is deprecated and will be changed to True in a future version of pandas. Pass observed=False to retain current behavior or observed=True to adopt the future default and silence this warning.\n",
      "  \"Average Reading Score\": per_school_summary.groupby(\"School Size\")[\"Average Reading Score\"].mean(),\n",
      "C:\\Users\\vikto\\AppData\\Local\\Temp\\ipykernel_6232\\2892525080.py:33: FutureWarning: The default of observed=False is deprecated and will be changed to True in a future version of pandas. Pass observed=False to retain current behavior or observed=True to adopt the future default and silence this warning.\n",
      "  \"% Passing Math\": per_school_summary.groupby(\"School Size\")[\"Passing Math Percentage\"].mean(),\n",
      "C:\\Users\\vikto\\AppData\\Local\\Temp\\ipykernel_6232\\2892525080.py:34: FutureWarning: The default of observed=False is deprecated and will be changed to True in a future version of pandas. Pass observed=False to retain current behavior or observed=True to adopt the future default and silence this warning.\n",
      "  \"% Passing Reading\": per_school_summary.groupby(\"School Size\")[\"Passing Reading Percentage\"].mean(),\n",
      "C:\\Users\\vikto\\AppData\\Local\\Temp\\ipykernel_6232\\2892525080.py:35: FutureWarning: The default of observed=False is deprecated and will be changed to True in a future version of pandas. Pass observed=False to retain current behavior or observed=True to adopt the future default and silence this warning.\n",
      "  \"% Overall Passing\": per_school_summary.groupby(\"School Size\")[\"Overall Passing Rate\"].mean()\n"
     ]
    },
    {
     "data": {
      "text/html": [
       "<div>\n",
       "<style scoped>\n",
       "    .dataframe tbody tr th:only-of-type {\n",
       "        vertical-align: middle;\n",
       "    }\n",
       "\n",
       "    .dataframe tbody tr th {\n",
       "        vertical-align: top;\n",
       "    }\n",
       "\n",
       "    .dataframe thead th {\n",
       "        text-align: right;\n",
       "    }\n",
       "</style>\n",
       "<table border=\"1\" class=\"dataframe\">\n",
       "  <thead>\n",
       "    <tr style=\"text-align: right;\">\n",
       "      <th></th>\n",
       "      <th>Average Math Score</th>\n",
       "      <th>Average Reading Score</th>\n",
       "      <th>% Passing Math</th>\n",
       "      <th>% Passing Reading</th>\n",
       "      <th>% Overall Passing</th>\n",
       "    </tr>\n",
       "    <tr>\n",
       "      <th>School Size</th>\n",
       "      <th></th>\n",
       "      <th></th>\n",
       "      <th></th>\n",
       "      <th></th>\n",
       "      <th></th>\n",
       "    </tr>\n",
       "  </thead>\n",
       "  <tbody>\n",
       "    <tr>\n",
       "      <th>Small (&lt;1000)</th>\n",
       "      <td>83.82</td>\n",
       "      <td>83.93</td>\n",
       "      <td>93.55%</td>\n",
       "      <td>96.10%</td>\n",
       "      <td>89.88%</td>\n",
       "    </tr>\n",
       "    <tr>\n",
       "      <th>Medium (1000-2000)</th>\n",
       "      <td>83.37</td>\n",
       "      <td>83.86</td>\n",
       "      <td>93.60%</td>\n",
       "      <td>96.79%</td>\n",
       "      <td>90.62%</td>\n",
       "    </tr>\n",
       "    <tr>\n",
       "      <th>Large (2000-5000)</th>\n",
       "      <td>77.75</td>\n",
       "      <td>81.34</td>\n",
       "      <td>69.96%</td>\n",
       "      <td>82.77%</td>\n",
       "      <td>58.29%</td>\n",
       "    </tr>\n",
       "  </tbody>\n",
       "</table>\n",
       "</div>"
      ],
      "text/plain": [
       "                   Average Math Score Average Reading Score % Passing Math  \\\n",
       "School Size                                                                  \n",
       "Small (<1000)                   83.82                 83.93         93.55%   \n",
       "Medium (1000-2000)              83.37                 83.86         93.60%   \n",
       "Large (2000-5000)               77.75                 81.34         69.96%   \n",
       "\n",
       "                   % Passing Reading % Overall Passing  \n",
       "School Size                                             \n",
       "Small (<1000)                 96.10%            89.88%  \n",
       "Medium (1000-2000)            96.79%            90.62%  \n",
       "Large (2000-5000)             82.77%            58.29%  "
      ]
     },
     "execution_count": 31,
     "metadata": {},
     "output_type": "execute_result"
    }
   ],
   "source": [
    "# Calculate the number of students passing math per school\n",
    "per_school_passing_math = school_data_complete[school_data_complete[\"math_score\"] >= 70].groupby(\"school_name\")[\"student_name\"].count()\n",
    "\n",
    "# Calculate the number of students passing reading per school\n",
    "per_school_passing_reading = school_data_complete[school_data_complete[\"reading_score\"] >= 70].groupby(\"school_name\")[\"student_name\"].count()\n",
    "\n",
    "# Calculate the number of students passing both math and reading per school\n",
    "per_school_passing_overall = school_data_complete[\n",
    "    (school_data_complete[\"math_score\"] >= 70) & (school_data_complete[\"reading_score\"] >= 70)\n",
    "].groupby(\"school_name\")[\"student_name\"].count()\n",
    "\n",
    "# Calculate percentages\n",
    "per_school_summary[\"Passing Math Percentage\"] = (per_school_passing_math / per_school_summary[\"Total Students\"]) * 100\n",
    "per_school_summary[\"Passing Reading Percentage\"] = (per_school_passing_reading / per_school_summary[\"Total Students\"]) * 100\n",
    "per_school_summary[\"Overall Passing Rate\"] = (per_school_passing_overall / per_school_summary[\"Total Students\"]) * 100\n",
    "\n",
    "# Categorize schools based on size\n",
    "size_bins = [0, 1000, 2000, 5000]\n",
    "size_labels = [\"Small (<1000)\", \"Medium (1000-2000)\", \"Large (2000-5000)\"]\n",
    "\n",
    "# Add \"School Size\" to per_school_summary\n",
    "per_school_summary[\"School Size\"] = pd.cut(\n",
    "    per_school_summary[\"Total Students\"],\n",
    "    bins=size_bins,\n",
    "    labels=size_labels,\n",
    "    include_lowest=True\n",
    ")\n",
    "\n",
    "# Calculate averages for size ranges\n",
    "size_summary = pd.DataFrame({\n",
    "    \"Average Math Score\": per_school_summary.groupby(\"School Size\")[\"Average Math Score\"].mean(),\n",
    "    \"Average Reading Score\": per_school_summary.groupby(\"School Size\")[\"Average Reading Score\"].mean(),\n",
    "    \"% Passing Math\": per_school_summary.groupby(\"School Size\")[\"Passing Math Percentage\"].mean(),\n",
    "    \"% Passing Reading\": per_school_summary.groupby(\"School Size\")[\"Passing Reading Percentage\"].mean(),\n",
    "    \"% Overall Passing\": per_school_summary.groupby(\"School Size\")[\"Overall Passing Rate\"].mean()\n",
    "})\n",
    "\n",
    "# Format the results\n",
    "size_summary[\"Average Math Score\"] = size_summary[\"Average Math Score\"].map(\"{:.2f}\".format)\n",
    "size_summary[\"Average Reading Score\"] = size_summary[\"Average Reading Score\"].map(\"{:.2f}\".format)\n",
    "size_summary[\"% Passing Math\"] = size_summary[\"% Passing Math\"].map(\"{:.2f}%\".format)\n",
    "size_summary[\"% Passing Reading\"] = size_summary[\"% Passing Reading\"].map(\"{:.2f}%\".format)\n",
    "size_summary[\"% Overall Passing\"] = size_summary[\"% Overall Passing\"].map(\"{:.2f}%\".format)\n",
    "\n",
    "# Display the DataFrame\n",
    "size_summary\n"
   ]
  },
  {
   "cell_type": "markdown",
   "metadata": {},
   "source": [
    "## Scores by School Type"
   ]
  },
  {
   "cell_type": "code",
   "execution_count": 32,
   "metadata": {},
   "outputs": [
    {
     "name": "stdout",
     "output_type": "stream",
     "text": [
      "            Average Math Score Average Reading Score % Passing Math  \\\n",
      "School Type                                                           \n",
      "Charter                  83.47                 83.90         93.62%   \n",
      "District                 76.96                 80.97         66.55%   \n",
      "\n",
      "            % Passing Reading % Overall Passing  \n",
      "School Type                                      \n",
      "Charter                96.59%            90.43%  \n",
      "District               80.80%            53.67%  \n"
     ]
    }
   ],
   "source": [
    "# Add \"School Type\" to per_school_summary\n",
    "per_school_summary[\"School Type\"] = school_data.set_index(\"school_name\")[\"type\"]\n",
    "\n",
    "# Group the per_school_summary DataFrame by \"School Type\" and average the results\n",
    "average_math_score_by_type = per_school_summary.groupby(\"School Type\")[\"Average Math Score\"].mean()\n",
    "average_reading_score_by_type = per_school_summary.groupby(\"School Type\")[\"Average Reading Score\"].mean()\n",
    "average_percent_passing_math_by_type = per_school_summary.groupby(\"School Type\")[\"Passing Math Percentage\"].mean()\n",
    "average_percent_passing_reading_by_type = per_school_summary.groupby(\"School Type\")[\"Passing Reading Percentage\"].mean()\n",
    "average_percent_overall_passing_by_type = per_school_summary.groupby(\"School Type\")[\"Overall Passing Rate\"].mean()\n",
    "\n",
    "# Assemble the new data by type into a DataFrame called `type_summary`\n",
    "type_summary = pd.DataFrame({\n",
    "    \"Average Math Score\": average_math_score_by_type,\n",
    "    \"Average Reading Score\": average_reading_score_by_type,\n",
    "    \"% Passing Math\": average_percent_passing_math_by_type,\n",
    "    \"% Passing Reading\": average_percent_passing_reading_by_type,\n",
    "    \"% Overall Passing\": average_percent_overall_passing_by_type\n",
    "})\n",
    "\n",
    "# Format type summary\n",
    "type_summary[\"Average Math Score\"] = type_summary[\"Average Math Score\"].map(\"{:.2f}\".format)\n",
    "type_summary[\"Average Reading Score\"] = type_summary[\"Average Reading Score\"].map(\"{:.2f}\".format)\n",
    "type_summary[\"% Passing Math\"] = type_summary[\"% Passing Math\"].map(\"{:.2f}%\".format)\n",
    "type_summary[\"% Passing Reading\"] = type_summary[\"% Passing Reading\"].map(\"{:.2f}%\".format)\n",
    "type_summary[\"% Overall Passing\"] = type_summary[\"% Overall Passing\"].map(\"{:.2f}%\".format)\n",
    "\n",
    "# Display results\n",
    "print(type_summary)\n"
   ]
  },
  {
   "cell_type": "markdown",
   "metadata": {},
   "source": []
  },
  {
   "cell_type": "code",
   "execution_count": null,
   "metadata": {},
   "outputs": [],
   "source": []
  },
  {
   "cell_type": "code",
   "execution_count": null,
   "metadata": {},
   "outputs": [],
   "source": []
  }
 ],
 "metadata": {
  "anaconda-cloud": {},
  "kernel_info": {
   "name": "python3"
  },
  "kernelspec": {
   "display_name": "Python 3",
   "language": "python",
   "name": "python3"
  },
  "language_info": {
   "codemirror_mode": {
    "name": "ipython",
    "version": 3
   },
   "file_extension": ".py",
   "mimetype": "text/x-python",
   "name": "python",
   "nbconvert_exporter": "python",
   "pygments_lexer": "ipython3",
   "version": "3.12.4"
  },
  "latex_envs": {
   "LaTeX_envs_menu_present": true,
   "autoclose": false,
   "autocomplete": true,
   "bibliofile": "biblio.bib",
   "cite_by": "apalike",
   "current_citInitial": 1,
   "eqLabelWithNumbers": true,
   "eqNumInitial": 1,
   "hotkeys": {
    "equation": "Ctrl-E",
    "itemize": "Ctrl-I"
   },
   "labels_anchors": false,
   "latex_user_defs": false,
   "report_style_numbering": false,
   "user_envs_cfg": false
  },
  "nteract": {
   "version": "0.8.4"
  }
 },
 "nbformat": 4,
 "nbformat_minor": 4
}
